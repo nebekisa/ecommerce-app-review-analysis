{
 "cells": [
  {
   "cell_type": "code",
   "execution_count": 3,
   "id": "93c00edc-f0fb-440f-9686-95f4472b18f5",
   "metadata": {},
   "outputs": [
    {
     "name": "stdout",
     "output_type": "stream",
     "text": [
      "Libraries imported successfully.\n"
     ]
    }
   ],
   "source": [
    "# Cell 1: Import Libraries\n",
    "import pandas as pd\n",
    "import pyodbc\n",
    "import numpy as np\n",
    "# For basic text cleaning\n",
    "from bs4 import BeautifulSoup # For removing HTML tags\n",
    "import re # For regular expressions\n",
    "import contractions # For expanding contractions (pip install contractions)\n",
    "# For NLP tasks\n",
    "import nltk\n",
    "from nltk.corpus import stopwords\n",
    "from nltk.tokenize import word_tokenize\n",
    "from nltk.stem import WordNetLemmatizer\n",
    "# Download required NLTK data files (run once)\n",
    "# nltk.download('punkt') # Tokenizer\n",
    "# nltk.download('stopwords')\n",
    "# nltk.download('wordnet')\n",
    "# nltk.download('omw-1.4') # Open Multilingual Wordnet\n",
    "\n",
    "print(\"Libraries imported successfully.\")"
   ]
  },
  {
   "cell_type": "code",
   "execution_count": 4,
   "id": "e3c88818-f05c-4111-aab7-5a74fceafa25",
   "metadata": {},
   "outputs": [
    {
     "name": "stdout",
     "output_type": "stream",
     "text": [
      "Connected to SQL Server successfully.\n",
      "Data loaded into DataFrame successfully.\n",
      "\n",
      "--- DataFrame Info ---\n",
      "<class 'pandas.core.frame.DataFrame'>\n",
      "RangeIndex: 1500 entries, 0 to 1499\n",
      "Data columns (total 13 columns):\n",
      " #   Column             Non-Null Count  Dtype         \n",
      "---  ------             --------------  -----         \n",
      " 0   ReviewID           1500 non-null   int64         \n",
      " 1   AppName            1500 non-null   object        \n",
      " 2   PlayStoreReviewID  1500 non-null   object        \n",
      " 3   UserName           1500 non-null   object        \n",
      " 4   UserImageURL       1500 non-null   object        \n",
      " 5   ReviewText         1500 non-null   object        \n",
      " 6   Rating             1500 non-null   int64         \n",
      " 7   ThumbsUpCount      1500 non-null   int64         \n",
      " 8   AppVersion         1373 non-null   object        \n",
      " 9   ReviewDate         1500 non-null   datetime64[ns]\n",
      " 10  ReplyContent       672 non-null    object        \n",
      " 11  RepliedAt          672 non-null    datetime64[ns]\n",
      " 12  ScrapedAt          1500 non-null   datetime64[ns]\n",
      "dtypes: datetime64[ns](3), int64(3), object(7)\n",
      "memory usage: 152.5+ KB\n",
      "None\n",
      "\n",
      "--- First 5 Rows ---\n",
      "   ReviewID     AppName                     PlayStoreReviewID       UserName  \\\n",
      "0         1  AliExpress  2cf4e22e-e7e5-46df-acff-cd77eaf9de9d  Blaise Hytrek   \n",
      "1         2  AliExpress  da753698-5370-40b4-808b-eb0a3ce149a0   David Campos   \n",
      "2         3  AliExpress  b769d4ac-1b9b-4a3d-b399-04abc34aaeb0      Lee Davis   \n",
      "3         4  AliExpress  e849cdda-2ff9-4fac-b531-40b021d504ec      Jing Wang   \n",
      "4         5  AliExpress  d8989ff9-2a7e-406b-8dfd-faf8bd48c884   Kari Eilrich   \n",
      "\n",
      "                                        UserImageURL  \\\n",
      "0  https://play-lh.googleusercontent.com/a-/ALV-U...   \n",
      "1  https://play-lh.googleusercontent.com/a-/ALV-U...   \n",
      "2  https://play-lh.googleusercontent.com/a-/ALV-U...   \n",
      "3  https://play-lh.googleusercontent.com/a-/ALV-U...   \n",
      "4  https://play-lh.googleusercontent.com/a-/ALV-U...   \n",
      "\n",
      "                                          ReviewText  Rating  ThumbsUpCount  \\\n",
      "0  Good prices but awful shipping fees. Difficult...       2             24   \n",
      "1  Easy experience the last few years. Have done ...       5           1444   \n",
      "2  Alright. There's a LOT good deals, save for th...       5            161   \n",
      "3  extremely bad. when its affiliated store cance...       1            131   \n",
      "4  The first order of 3 items for .99¢ is real. H...       1            830   \n",
      "\n",
      "  AppVersion          ReviewDate ReplyContent RepliedAt  \\\n",
      "0    8.133.3 2025-07-18 03:22:39         None       NaT   \n",
      "1    8.129.3 2025-05-26 11:23:12         None       NaT   \n",
      "2    8.131.2 2025-07-04 21:14:16         None       NaT   \n",
      "3    8.131.2 2025-06-29 09:30:11         None       NaT   \n",
      "4    8.122.3 2025-03-08 03:32:58         None       NaT   \n",
      "\n",
      "                   ScrapedAt  \n",
      "0 2025-07-25 22:36:06.313333  \n",
      "1 2025-07-25 22:36:06.323333  \n",
      "2 2025-07-25 22:36:06.330000  \n",
      "3 2025-07-25 22:36:06.336666  \n",
      "4 2025-07-25 22:36:06.343333  \n",
      "\n",
      "--- DataFrame Shape ---\n",
      "(1500, 13)\n"
     ]
    },
    {
     "name": "stderr",
     "output_type": "stream",
     "text": [
      "C:\\Users\\hp\\AppData\\Local\\Temp\\ipykernel_9040\\4116662737.py:20: UserWarning: pandas only supports SQLAlchemy connectable (engine/connection) or database string URI or sqlite3 DBAPI2 connection. Other DBAPI2 objects are not tested. Please consider using SQLAlchemy.\n",
      "  df = pd.read_sql(query, conn)\n"
     ]
    }
   ],
   "source": [
    "# Cell 2: Load Data from SQL Server\n",
    "# --- Database Connection Configuration (Update as needed) ---\n",
    "SERVER = 'localhost' # Replace with your server name/IP\n",
    "DATABASE = 'PlayStoreReviewsDB'\n",
    "# Use Windows Authentication (common for local development)\n",
    "CONNECTION_STRING = f'DRIVER={{ODBC Driver 17 for SQL Server}};SERVER={SERVER};DATABASE={DATABASE};Trusted_Connection=yes;'\n",
    "# Or SQL Server Authentication (uncomment and update if needed):\n",
    "# USERNAME = 'your_username'\n",
    "# PASSWORD = 'your_password'\n",
    "# CONNECTION_STRING = f'DRIVER={{ODBC Driver 17 for SQL Server}};SERVER={SERVER};DATABASE={DATABASE};UID={USERNAME};PWD={PASSWORD}'\n",
    "\n",
    "def load_data_from_db():\n",
    "    \"\"\"Loads data from the AppReviews table into a Pandas DataFrame.\"\"\"\n",
    "    try:\n",
    "        conn = pyodbc.connect(CONNECTION_STRING)\n",
    "        print(\"Connected to SQL Server successfully.\")\n",
    "        # Query to select all data from the AppReviews table\n",
    "        query = \"SELECT * FROM dbo.AppReviews\"\n",
    "        # Load data into a DataFrame\n",
    "        df = pd.read_sql(query, conn)\n",
    "        conn.close()\n",
    "        print(\"Data loaded into DataFrame successfully.\")\n",
    "        return df\n",
    "    except Exception as e:\n",
    "        print(f\"Error loading data: {e}\")\n",
    "        return pd.DataFrame() # Return empty DataFrame on error\n",
    "\n",
    "# Load the data\n",
    "df = load_data_from_db()\n",
    "\n",
    "# Display basic information about the DataFrame\n",
    "print(\"\\n--- DataFrame Info ---\")\n",
    "print(df.info())\n",
    "\n",
    "print(\"\\n--- First 5 Rows ---\")\n",
    "print(df.head())\n",
    "\n",
    "print(\"\\n--- DataFrame Shape ---\")\n",
    "print(df.shape)"
   ]
  },
  {
   "cell_type": "code",
   "execution_count": null,
   "id": "d54d4b4e-1091-499b-84d5-57c08544f630",
   "metadata": {},
   "outputs": [],
   "source": []
  }
 ],
 "metadata": {
  "kernelspec": {
   "display_name": "Python 3 (ipykernel)",
   "language": "python",
   "name": "python3"
  },
  "language_info": {
   "codemirror_mode": {
    "name": "ipython",
    "version": 3
   },
   "file_extension": ".py",
   "mimetype": "text/x-python",
   "name": "python",
   "nbconvert_exporter": "python",
   "pygments_lexer": "ipython3",
   "version": "3.13.1"
  }
 },
 "nbformat": 4,
 "nbformat_minor": 5
}
